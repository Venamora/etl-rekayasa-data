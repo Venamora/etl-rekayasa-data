{
 "cells": [
  {
   "cell_type": "code",
   "execution_count": 13,
   "metadata": {},
   "outputs": [],
   "source": [
    "import pandas as pd "
   ]
  },
  {
   "cell_type": "code",
   "execution_count": 14,
   "metadata": {},
   "outputs": [],
   "source": [
    "JogjaCuaca = pd.read_csv('tweets-data/Extra_JogjaCuacaTudey.csv')\n",
    "#label_panas = pd.read_csv('tweets-data/JogjaPanas2.csv')"
   ]
  },
  {
   "cell_type": "code",
   "execution_count": 15,
   "metadata": {},
   "outputs": [
    {
     "data": {
      "text/html": [
       "<div>\n",
       "<style scoped>\n",
       "    .dataframe tbody tr th:only-of-type {\n",
       "        vertical-align: middle;\n",
       "    }\n",
       "\n",
       "    .dataframe tbody tr th {\n",
       "        vertical-align: top;\n",
       "    }\n",
       "\n",
       "    .dataframe thead th {\n",
       "        text-align: right;\n",
       "    }\n",
       "</style>\n",
       "<table border=\"1\" class=\"dataframe\">\n",
       "  <thead>\n",
       "    <tr style=\"text-align: right;\">\n",
       "      <th></th>\n",
       "      <th>conversation_id_str</th>\n",
       "      <th>created_at</th>\n",
       "      <th>favorite_count</th>\n",
       "      <th>full_text</th>\n",
       "      <th>id_str</th>\n",
       "      <th>image_url</th>\n",
       "      <th>in_reply_to_screen_name</th>\n",
       "      <th>lang</th>\n",
       "      <th>location</th>\n",
       "      <th>quote_count</th>\n",
       "      <th>reply_count</th>\n",
       "      <th>retweet_count</th>\n",
       "      <th>tweet_url</th>\n",
       "      <th>user_id_str</th>\n",
       "      <th>username</th>\n",
       "    </tr>\n",
       "  </thead>\n",
       "  <tbody>\n",
       "    <tr>\n",
       "      <th>0</th>\n",
       "      <td>1858480189996749094</td>\n",
       "      <td>Mon Nov 18 11:59:40 +0000 2024</td>\n",
       "      <td>0</td>\n",
       "      <td>infokan cuaca leh aku meh bali ng makot seko j...</td>\n",
       "      <td>1858480189996749094</td>\n",
       "      <td>NaN</td>\n",
       "      <td>NaN</td>\n",
       "      <td>in</td>\n",
       "      <td>Kirim disini 👉</td>\n",
       "      <td>0</td>\n",
       "      <td>4</td>\n",
       "      <td>0</td>\n",
       "      <td>https://x.com/magelang_fess/status/18584801899...</td>\n",
       "      <td>1216751588032708609</td>\n",
       "      <td>magelang_fess</td>\n",
       "    </tr>\n",
       "    <tr>\n",
       "      <th>1</th>\n",
       "      <td>1858462628718203161</td>\n",
       "      <td>Mon Nov 18 10:49:53 +0000 2024</td>\n",
       "      <td>0</td>\n",
       "      <td>hari ini kek lemes bgt didukung cuaca jogja se...</td>\n",
       "      <td>1858462628718203161</td>\n",
       "      <td>NaN</td>\n",
       "      <td>NaN</td>\n",
       "      <td>in</td>\n",
       "      <td>NaN</td>\n",
       "      <td>0</td>\n",
       "      <td>0</td>\n",
       "      <td>0</td>\n",
       "      <td>https://x.com/whatdefra/status/185846262871820...</td>\n",
       "      <td>391820156</td>\n",
       "      <td>whatdefra</td>\n",
       "    </tr>\n",
       "    <tr>\n",
       "      <th>2</th>\n",
       "      <td>1858459142085865634</td>\n",
       "      <td>Mon Nov 18 10:36:02 +0000 2024</td>\n",
       "      <td>0</td>\n",
       "      <td>bjir lah ak benci bgt cuaca jogja</td>\n",
       "      <td>1858459142085865634</td>\n",
       "      <td>NaN</td>\n",
       "      <td>NaN</td>\n",
       "      <td>in</td>\n",
       "      <td>NaN</td>\n",
       "      <td>0</td>\n",
       "      <td>0</td>\n",
       "      <td>0</td>\n",
       "      <td>https://x.com/firdhahlah/status/18584591420858...</td>\n",
       "      <td>1207260907320930304</td>\n",
       "      <td>firdhahlah</td>\n",
       "    </tr>\n",
       "    <tr>\n",
       "      <th>3</th>\n",
       "      <td>1858458162296176734</td>\n",
       "      <td>Mon Nov 18 10:32:09 +0000 2024</td>\n",
       "      <td>1</td>\n",
       "      <td>Info cuaca Jogja dong bolo</td>\n",
       "      <td>1858458162296176734</td>\n",
       "      <td>NaN</td>\n",
       "      <td>NaN</td>\n",
       "      <td>in</td>\n",
       "      <td>Tutorial Kirim Menfess</td>\n",
       "      <td>0</td>\n",
       "      <td>0</td>\n",
       "      <td>0</td>\n",
       "      <td>https://x.com/jatengmnfs/status/18584581622961...</td>\n",
       "      <td>808914931110334464</td>\n",
       "      <td>jatengmnfs</td>\n",
       "    </tr>\n",
       "    <tr>\n",
       "      <th>4</th>\n",
       "      <td>1858445407975768481</td>\n",
       "      <td>Mon Nov 18 10:05:33 +0000 2024</td>\n",
       "      <td>0</td>\n",
       "      <td>@itsnsunflowers Meriang sebab cuaca berubah-ub...</td>\n",
       "      <td>1858451468925432190</td>\n",
       "      <td>NaN</td>\n",
       "      <td>itsnsunflowers</td>\n",
       "      <td>in</td>\n",
       "      <td>NaN</td>\n",
       "      <td>0</td>\n",
       "      <td>0</td>\n",
       "      <td>0</td>\n",
       "      <td>https://x.com/PijatRealJogja/status/1858451468...</td>\n",
       "      <td>1277856339226619904</td>\n",
       "      <td>PijatRealJogja</td>\n",
       "    </tr>\n",
       "    <tr>\n",
       "      <th>...</th>\n",
       "      <td>...</td>\n",
       "      <td>...</td>\n",
       "      <td>...</td>\n",
       "      <td>...</td>\n",
       "      <td>...</td>\n",
       "      <td>...</td>\n",
       "      <td>...</td>\n",
       "      <td>...</td>\n",
       "      <td>...</td>\n",
       "      <td>...</td>\n",
       "      <td>...</td>\n",
       "      <td>...</td>\n",
       "      <td>...</td>\n",
       "      <td>...</td>\n",
       "      <td>...</td>\n",
       "    </tr>\n",
       "    <tr>\n",
       "      <th>147</th>\n",
       "      <td>1847882355882775017</td>\n",
       "      <td>Sun Oct 20 06:07:40 +0000 2024</td>\n",
       "      <td>1</td>\n",
       "      <td>Jogja beberapa hari ini mulai dingin cuacanya....</td>\n",
       "      <td>1847882355882775017</td>\n",
       "      <td>NaN</td>\n",
       "      <td>NaN</td>\n",
       "      <td>in</td>\n",
       "      <td>NaN</td>\n",
       "      <td>0</td>\n",
       "      <td>0</td>\n",
       "      <td>0</td>\n",
       "      <td>https://x.com/diirandini/status/18478823558827...</td>\n",
       "      <td>383170334</td>\n",
       "      <td>diirandini</td>\n",
       "    </tr>\n",
       "    <tr>\n",
       "      <th>148</th>\n",
       "      <td>1847871093937492040</td>\n",
       "      <td>Sun Oct 20 05:22:55 +0000 2024</td>\n",
       "      <td>1</td>\n",
       "      <td>Cuaca jogja sedang syahdu jadi kangen bandung</td>\n",
       "      <td>1847871093937492040</td>\n",
       "      <td>NaN</td>\n",
       "      <td>NaN</td>\n",
       "      <td>in</td>\n",
       "      <td>NaN</td>\n",
       "      <td>0</td>\n",
       "      <td>0</td>\n",
       "      <td>0</td>\n",
       "      <td>https://x.com/Bar2Kang/status/1847871093937492040</td>\n",
       "      <td>1257694464920838145</td>\n",
       "      <td>Bar2Kang</td>\n",
       "    </tr>\n",
       "    <tr>\n",
       "      <th>149</th>\n",
       "      <td>1847862703404310860</td>\n",
       "      <td>Sun Oct 20 04:49:34 +0000 2024</td>\n",
       "      <td>1</td>\n",
       "      <td>Cuaca jogja hari ini sangat tidak bersahabat b...</td>\n",
       "      <td>1847862703404310860</td>\n",
       "      <td>NaN</td>\n",
       "      <td>NaN</td>\n",
       "      <td>in</td>\n",
       "      <td>NaN</td>\n",
       "      <td>0</td>\n",
       "      <td>0</td>\n",
       "      <td>0</td>\n",
       "      <td>https://x.com/HarapanJayaaa/status/18478627034...</td>\n",
       "      <td>1261678479180877824</td>\n",
       "      <td>HarapanJayaaa</td>\n",
       "    </tr>\n",
       "    <tr>\n",
       "      <th>150</th>\n",
       "      <td>1847860010199765168</td>\n",
       "      <td>Sun Oct 20 04:38:52 +0000 2024</td>\n",
       "      <td>0</td>\n",
       "      <td>Jogja 20 Oktober 2024 Cuaca mendung hujan geri...</td>\n",
       "      <td>1847860010199765168</td>\n",
       "      <td>NaN</td>\n",
       "      <td>NaN</td>\n",
       "      <td>in</td>\n",
       "      <td>NaN</td>\n",
       "      <td>0</td>\n",
       "      <td>0</td>\n",
       "      <td>0</td>\n",
       "      <td>https://x.com/EfanSteph/status/184786001019976...</td>\n",
       "      <td>271404470</td>\n",
       "      <td>EfanSteph</td>\n",
       "    </tr>\n",
       "    <tr>\n",
       "      <th>151</th>\n",
       "      <td>1847839211413471727</td>\n",
       "      <td>Sun Oct 20 03:16:13 +0000 2024</td>\n",
       "      <td>0</td>\n",
       "      <td>Sebaran Curah Hujan Harian di Wilayah D.I Yogy...</td>\n",
       "      <td>1847839211413471727</td>\n",
       "      <td>https://pbs.twimg.com/media/GaTX-EbXEAAyzid.jpg</td>\n",
       "      <td>NaN</td>\n",
       "      <td>in</td>\n",
       "      <td>Daerah Istimewa Yogyakarta</td>\n",
       "      <td>0</td>\n",
       "      <td>0</td>\n",
       "      <td>0</td>\n",
       "      <td>https://x.com/staklim_jogja/status/18478392114...</td>\n",
       "      <td>1749990551758475265</td>\n",
       "      <td>staklim_jogja</td>\n",
       "    </tr>\n",
       "  </tbody>\n",
       "</table>\n",
       "<p>152 rows × 15 columns</p>\n",
       "</div>"
      ],
      "text/plain": [
       "     conversation_id_str                      created_at  favorite_count  \\\n",
       "0    1858480189996749094  Mon Nov 18 11:59:40 +0000 2024               0   \n",
       "1    1858462628718203161  Mon Nov 18 10:49:53 +0000 2024               0   \n",
       "2    1858459142085865634  Mon Nov 18 10:36:02 +0000 2024               0   \n",
       "3    1858458162296176734  Mon Nov 18 10:32:09 +0000 2024               1   \n",
       "4    1858445407975768481  Mon Nov 18 10:05:33 +0000 2024               0   \n",
       "..                   ...                             ...             ...   \n",
       "147  1847882355882775017  Sun Oct 20 06:07:40 +0000 2024               1   \n",
       "148  1847871093937492040  Sun Oct 20 05:22:55 +0000 2024               1   \n",
       "149  1847862703404310860  Sun Oct 20 04:49:34 +0000 2024               1   \n",
       "150  1847860010199765168  Sun Oct 20 04:38:52 +0000 2024               0   \n",
       "151  1847839211413471727  Sun Oct 20 03:16:13 +0000 2024               0   \n",
       "\n",
       "                                             full_text               id_str  \\\n",
       "0    infokan cuaca leh aku meh bali ng makot seko j...  1858480189996749094   \n",
       "1    hari ini kek lemes bgt didukung cuaca jogja se...  1858462628718203161   \n",
       "2                    bjir lah ak benci bgt cuaca jogja  1858459142085865634   \n",
       "3                           Info cuaca Jogja dong bolo  1858458162296176734   \n",
       "4    @itsnsunflowers Meriang sebab cuaca berubah-ub...  1858451468925432190   \n",
       "..                                                 ...                  ...   \n",
       "147  Jogja beberapa hari ini mulai dingin cuacanya....  1847882355882775017   \n",
       "148      Cuaca jogja sedang syahdu jadi kangen bandung  1847871093937492040   \n",
       "149  Cuaca jogja hari ini sangat tidak bersahabat b...  1847862703404310860   \n",
       "150  Jogja 20 Oktober 2024 Cuaca mendung hujan geri...  1847860010199765168   \n",
       "151  Sebaran Curah Hujan Harian di Wilayah D.I Yogy...  1847839211413471727   \n",
       "\n",
       "                                           image_url in_reply_to_screen_name  \\\n",
       "0                                                NaN                     NaN   \n",
       "1                                                NaN                     NaN   \n",
       "2                                                NaN                     NaN   \n",
       "3                                                NaN                     NaN   \n",
       "4                                                NaN          itsnsunflowers   \n",
       "..                                               ...                     ...   \n",
       "147                                              NaN                     NaN   \n",
       "148                                              NaN                     NaN   \n",
       "149                                              NaN                     NaN   \n",
       "150                                              NaN                     NaN   \n",
       "151  https://pbs.twimg.com/media/GaTX-EbXEAAyzid.jpg                     NaN   \n",
       "\n",
       "    lang                    location  quote_count  reply_count  retweet_count  \\\n",
       "0     in              Kirim disini 👉            0            4              0   \n",
       "1     in                         NaN            0            0              0   \n",
       "2     in                         NaN            0            0              0   \n",
       "3     in      Tutorial Kirim Menfess            0            0              0   \n",
       "4     in                         NaN            0            0              0   \n",
       "..   ...                         ...          ...          ...            ...   \n",
       "147   in                         NaN            0            0              0   \n",
       "148   in                         NaN            0            0              0   \n",
       "149   in                         NaN            0            0              0   \n",
       "150   in                         NaN            0            0              0   \n",
       "151   in  Daerah Istimewa Yogyakarta            0            0              0   \n",
       "\n",
       "                                             tweet_url          user_id_str  \\\n",
       "0    https://x.com/magelang_fess/status/18584801899...  1216751588032708609   \n",
       "1    https://x.com/whatdefra/status/185846262871820...            391820156   \n",
       "2    https://x.com/firdhahlah/status/18584591420858...  1207260907320930304   \n",
       "3    https://x.com/jatengmnfs/status/18584581622961...   808914931110334464   \n",
       "4    https://x.com/PijatRealJogja/status/1858451468...  1277856339226619904   \n",
       "..                                                 ...                  ...   \n",
       "147  https://x.com/diirandini/status/18478823558827...            383170334   \n",
       "148  https://x.com/Bar2Kang/status/1847871093937492040  1257694464920838145   \n",
       "149  https://x.com/HarapanJayaaa/status/18478627034...  1261678479180877824   \n",
       "150  https://x.com/EfanSteph/status/184786001019976...            271404470   \n",
       "151  https://x.com/staklim_jogja/status/18478392114...  1749990551758475265   \n",
       "\n",
       "           username  \n",
       "0     magelang_fess  \n",
       "1         whatdefra  \n",
       "2        firdhahlah  \n",
       "3        jatengmnfs  \n",
       "4    PijatRealJogja  \n",
       "..              ...  \n",
       "147      diirandini  \n",
       "148        Bar2Kang  \n",
       "149   HarapanJayaaa  \n",
       "150       EfanSteph  \n",
       "151   staklim_jogja  \n",
       "\n",
       "[152 rows x 15 columns]"
      ]
     },
     "execution_count": 15,
     "metadata": {},
     "output_type": "execute_result"
    }
   ],
   "source": [
    "JogjaCuaca"
   ]
  },
  {
   "cell_type": "code",
   "execution_count": 16,
   "metadata": {},
   "outputs": [],
   "source": [
    "#label_panas"
   ]
  },
  {
   "cell_type": "code",
   "execution_count": 17,
   "metadata": {},
   "outputs": [
    {
     "data": {
      "text/plain": [
       "Index(['conversation_id_str', 'created_at', 'favorite_count', 'full_text',\n",
       "       'id_str', 'image_url', 'in_reply_to_screen_name', 'lang', 'location',\n",
       "       'quote_count', 'reply_count', 'retweet_count', 'tweet_url',\n",
       "       'user_id_str', 'username'],\n",
       "      dtype='object')"
      ]
     },
     "execution_count": 17,
     "metadata": {},
     "output_type": "execute_result"
    }
   ],
   "source": [
    "JogjaCuaca.columns"
   ]
  },
  {
   "cell_type": "code",
   "execution_count": 6,
   "metadata": {},
   "outputs": [],
   "source": [
    "#label_panas.columns"
   ]
  },
  {
   "cell_type": "code",
   "execution_count": 7,
   "metadata": {},
   "outputs": [
    {
     "ename": "NameError",
     "evalue": "name 'label_dingin' is not defined",
     "output_type": "error",
     "traceback": [
      "\u001b[1;31m---------------------------------------------------------------------------\u001b[0m",
      "\u001b[1;31mNameError\u001b[0m                                 Traceback (most recent call last)",
      "Cell \u001b[1;32mIn[7], line 1\u001b[0m\n\u001b[1;32m----> 1\u001b[0m full_data \u001b[38;5;241m=\u001b[39m pd\u001b[38;5;241m.\u001b[39mconcat([\u001b[43mlabel_dingin\u001b[49m, label_panas], axis\u001b[38;5;241m=\u001b[39m\u001b[38;5;241m0\u001b[39m)\n",
      "\u001b[1;31mNameError\u001b[0m: name 'label_dingin' is not defined"
     ]
    }
   ],
   "source": [
    "full_data = pd.concat([label_dingin, label_panas], axis=0)"
   ]
  },
  {
   "cell_type": "code",
   "execution_count": null,
   "metadata": {},
   "outputs": [
    {
     "ename": "NameError",
     "evalue": "name 'full_data' is not defined",
     "output_type": "error",
     "traceback": [
      "\u001b[1;31m---------------------------------------------------------------------------\u001b[0m",
      "\u001b[1;31mNameError\u001b[0m                                 Traceback (most recent call last)",
      "Cell \u001b[1;32mIn[8], line 1\u001b[0m\n\u001b[1;32m----> 1\u001b[0m \u001b[43mfull_data\u001b[49m\n",
      "\u001b[1;31mNameError\u001b[0m: name 'full_data' is not defined"
     ]
    }
   ],
   "source": [
    "full_data"
   ]
  },
  {
   "cell_type": "code",
   "execution_count": 18,
   "metadata": {},
   "outputs": [],
   "source": [
    "from datapreprocessing import DataPreprocessing"
   ]
  },
  {
   "cell_type": "code",
   "execution_count": 19,
   "metadata": {},
   "outputs": [],
   "source": [
    "temp = DataPreprocessing(JogjaCuaca)"
   ]
  },
  {
   "cell_type": "code",
   "execution_count": 20,
   "metadata": {},
   "outputs": [],
   "source": [
    "data_cleaned = temp.clean_text(JogjaCuaca)"
   ]
  },
  {
   "cell_type": "code",
   "execution_count": 21,
   "metadata": {},
   "outputs": [
    {
     "data": {
      "text/plain": [
       "Index(['created_at', 'full_text'], dtype='object')"
      ]
     },
     "execution_count": 21,
     "metadata": {},
     "output_type": "execute_result"
    }
   ],
   "source": [
    "data_cleaned.columns"
   ]
  },
  {
   "cell_type": "code",
   "execution_count": 22,
   "metadata": {},
   "outputs": [
    {
     "data": {
      "text/plain": [
       "'Joh info cuaca area jogja sore ini'"
      ]
     },
     "execution_count": 22,
     "metadata": {},
     "output_type": "execute_result"
    }
   ],
   "source": [
    "data_cleaned['full_text'][1]"
   ]
  },
  {
   "cell_type": "code",
   "execution_count": 23,
   "metadata": {},
   "outputs": [],
   "source": [
    "data_cleaned['created_at'] = pd.to_datetime(data_cleaned['created_at'], format='%a %b %d %Y', errors='coerce')\n",
    "sorted_data = data_cleaned.sort_values(by='created_at', ascending=False).reset_index(drop=True)"
   ]
  },
  {
   "cell_type": "code",
   "execution_count": 24,
   "metadata": {},
   "outputs": [
    {
     "data": {
      "text/html": [
       "<div>\n",
       "<style scoped>\n",
       "    .dataframe tbody tr th:only-of-type {\n",
       "        vertical-align: middle;\n",
       "    }\n",
       "\n",
       "    .dataframe tbody tr th {\n",
       "        vertical-align: top;\n",
       "    }\n",
       "\n",
       "    .dataframe thead th {\n",
       "        text-align: right;\n",
       "    }\n",
       "</style>\n",
       "<table border=\"1\" class=\"dataframe\">\n",
       "  <thead>\n",
       "    <tr style=\"text-align: right;\">\n",
       "      <th></th>\n",
       "      <th>created_at</th>\n",
       "      <th>full_text</th>\n",
       "    </tr>\n",
       "  </thead>\n",
       "  <tbody>\n",
       "    <tr>\n",
       "      <th>0</th>\n",
       "      <td>2024-11-18</td>\n",
       "      <td>infokan cuaca leh aku meh bali ng makot seko j...</td>\n",
       "    </tr>\n",
       "    <tr>\n",
       "      <th>1</th>\n",
       "      <td>2024-11-18</td>\n",
       "      <td>Jogja kota sedang hujan enaknya ngewe cok cuac...</td>\n",
       "    </tr>\n",
       "    <tr>\n",
       "      <th>2</th>\n",
       "      <td>2024-11-18</td>\n",
       "      <td>Joh info cuaca area jogja sore ini</td>\n",
       "    </tr>\n",
       "    <tr>\n",
       "      <th>3</th>\n",
       "      <td>2024-11-18</td>\n",
       "      <td>bjir lah aku benci sangat cuaca jogja</td>\n",
       "    </tr>\n",
       "    <tr>\n",
       "      <th>4</th>\n",
       "      <td>2024-11-18</td>\n",
       "      <td>Meriang sebab cuaca berubah-ubah jadi pengaruh...</td>\n",
       "    </tr>\n",
       "    <tr>\n",
       "      <th>...</th>\n",
       "      <td>...</td>\n",
       "      <td>...</td>\n",
       "    </tr>\n",
       "    <tr>\n",
       "      <th>147</th>\n",
       "      <td>2024-10-20</td>\n",
       "      <td>Cuaca jogja sedang syahdu jadi kangen bandung</td>\n",
       "    </tr>\n",
       "    <tr>\n",
       "      <th>148</th>\n",
       "      <td>2024-10-20</td>\n",
       "      <td>Cuaca jogja hari ini sangat tidak bersahabat b...</td>\n",
       "    </tr>\n",
       "    <tr>\n",
       "      <th>149</th>\n",
       "      <td>2024-10-20</td>\n",
       "      <td>Jogja 2 2 Oktober 2 2 20 20 Cuaca mendung huja...</td>\n",
       "    </tr>\n",
       "    <tr>\n",
       "      <th>150</th>\n",
       "      <td>2024-10-20</td>\n",
       "      <td>Cuaca jogja enak banget buat mager mageran</td>\n",
       "    </tr>\n",
       "    <tr>\n",
       "      <th>151</th>\n",
       "      <td>2024-10-20</td>\n",
       "      <td>Sebaran Curah Hujan Harian di Wilayah di.I Yog...</td>\n",
       "    </tr>\n",
       "  </tbody>\n",
       "</table>\n",
       "<p>152 rows × 2 columns</p>\n",
       "</div>"
      ],
      "text/plain": [
       "    created_at                                          full_text\n",
       "0   2024-11-18  infokan cuaca leh aku meh bali ng makot seko j...\n",
       "1   2024-11-18  Jogja kota sedang hujan enaknya ngewe cok cuac...\n",
       "2   2024-11-18                 Joh info cuaca area jogja sore ini\n",
       "3   2024-11-18              bjir lah aku benci sangat cuaca jogja\n",
       "4   2024-11-18  Meriang sebab cuaca berubah-ubah jadi pengaruh...\n",
       "..         ...                                                ...\n",
       "147 2024-10-20      Cuaca jogja sedang syahdu jadi kangen bandung\n",
       "148 2024-10-20  Cuaca jogja hari ini sangat tidak bersahabat b...\n",
       "149 2024-10-20  Jogja 2 2 Oktober 2 2 20 20 Cuaca mendung huja...\n",
       "150 2024-10-20         Cuaca jogja enak banget buat mager mageran\n",
       "151 2024-10-20  Sebaran Curah Hujan Harian di Wilayah di.I Yog...\n",
       "\n",
       "[152 rows x 2 columns]"
      ]
     },
     "execution_count": 24,
     "metadata": {},
     "output_type": "execute_result"
    }
   ],
   "source": [
    "sorted_data"
   ]
  },
  {
   "cell_type": "code",
   "execution_count": 25,
   "metadata": {},
   "outputs": [],
   "source": [
    "sorted_data.to_csv('tweets-data/sorted_Extra_JogjaCuacaTudey.csv', index = False)"
   ]
  },
  {
   "cell_type": "code",
   "execution_count": null,
   "metadata": {},
   "outputs": [],
   "source": []
  }
 ],
 "metadata": {
  "kernelspec": {
   "display_name": "Python 3",
   "language": "python",
   "name": "python3"
  },
  "language_info": {
   "codemirror_mode": {
    "name": "ipython",
    "version": 3
   },
   "file_extension": ".py",
   "mimetype": "text/x-python",
   "name": "python",
   "nbconvert_exporter": "python",
   "pygments_lexer": "ipython3",
   "version": "3.12.5"
  }
 },
 "nbformat": 4,
 "nbformat_minor": 2
}
