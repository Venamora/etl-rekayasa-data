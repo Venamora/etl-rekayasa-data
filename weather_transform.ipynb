{
 "cells": [
  {
   "cell_type": "code",
   "execution_count": 7,
   "metadata": {},
   "outputs": [],
   "source": [
    "import pandas as pd"
   ]
  },
  {
   "cell_type": "code",
   "execution_count": 8,
   "metadata": {},
   "outputs": [],
   "source": [
    "file_path = '../data/yogyakarta_weather_data.csv'  # Ganti dengan path file di sistem Anda\n",
    "weather_df = pd.read_csv(file_path)"
   ]
  },
  {
   "cell_type": "code",
   "execution_count": 9,
   "metadata": {},
   "outputs": [
    {
     "name": "stdout",
     "output_type": "stream",
     "text": [
      "Data Weather Sebelum Cleaning:\n",
      "     datetime  temperature  humidity  wind_speed  uv_index  \\\n",
      "0  2024-05-20         25.7        86         2.1       NaN   \n",
      "1  2024-05-21         25.6        87         1.8       NaN   \n",
      "2  2024-05-22         26.1        88         1.6       NaN   \n",
      "3  2024-05-23         26.2        90         1.2       NaN   \n",
      "4  2024-05-24         26.7        89         1.3       NaN   \n",
      "\n",
      "        weather_description   city_name  \n",
      "0  No description available  Yogyakarta  \n",
      "1  No description available  Yogyakarta  \n",
      "2  No description available  Yogyakarta  \n",
      "3  No description available  Yogyakarta  \n",
      "4  No description available  Yogyakarta  \n"
     ]
    }
   ],
   "source": [
    "# Menampilkan beberapa baris awal data\n",
    "print(\"Data Weather Sebelum Cleaning:\")\n",
    "print(weather_df.head())"
   ]
  },
  {
   "cell_type": "code",
   "execution_count": 10,
   "metadata": {},
   "outputs": [
    {
     "name": "stdout",
     "output_type": "stream",
     "text": [
      "       datetime  temperature  humidity  wind_speed\n",
      "0    2024-05-20         25.7        86         2.1\n",
      "1    2024-05-21         25.6        87         1.8\n",
      "2    2024-05-22         26.1        88         1.6\n",
      "3    2024-05-23         26.2        90         1.2\n",
      "4    2024-05-24         26.7        89         1.3\n",
      "..          ...          ...       ...         ...\n",
      "179  2024-11-15         27.1        81         0.9\n",
      "180  2024-11-16         26.7        85         1.0\n",
      "181  2024-11-17         27.1        81         0.8\n",
      "182  2024-11-18         26.9        84         0.7\n",
      "183  2024-11-19         26.3        86         1.0\n",
      "\n",
      "[184 rows x 4 columns]\n"
     ]
    }
   ],
   "source": [
    "# Drop the \"uv_index\", \"weather_description\", and \"city_name\" columns\n",
    "weather_df = weather_df.drop([\"uv_index\", \"weather_description\", \"city_name\"], axis=1)\n",
    "\n",
    "# Drop any duplicate rows based on the \"datetime\" column\n",
    "weather_df = weather_df.drop_duplicates(subset=\"datetime\", keep=\"first\")\n",
    "\n",
    "# Print the cleaned up data\n",
    "print(weather_df)"
   ]
  }
 ],
 "metadata": {
  "kernelspec": {
   "display_name": "Python 3",
   "language": "python",
   "name": "python3"
  },
  "language_info": {
   "codemirror_mode": {
    "name": "ipython",
    "version": 3
   },
   "file_extension": ".py",
   "mimetype": "text/x-python",
   "name": "python",
   "nbconvert_exporter": "python",
   "pygments_lexer": "ipython3",
   "version": "3.12.2"
  }
 },
 "nbformat": 4,
 "nbformat_minor": 2
}
